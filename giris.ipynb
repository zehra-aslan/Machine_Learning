{
 "cells": [
  {
   "cell_type": "markdown",
   "id": "1de8369f-430d-489f-b0c9-626faf8843f0",
   "metadata": {},
   "source": [
    "# Temel Kavramlar"
   ]
  },
  {
   "cell_type": "markdown",
   "id": "d736b59c-b82c-4d03-94df-e73031e1c90f",
   "metadata": {},
   "source": [
    "**Makine Öğrenmesine Giriş**"
   ]
  },
  {
   "cell_type": "markdown",
   "id": "e7c1721e-c705-4d7d-9a91-0a623db9f9fb",
   "metadata": {},
   "source": [
    "Hedef değişken sayısalsa regresyon problemi, kategorik ise sınıflandırma problemidir"
   ]
  },
  {
   "cell_type": "markdown",
   "id": "8cf5da45-02bb-4c94-aea1-99764c63df75",
   "metadata": {},
   "source": [
    "**Değişken Türleri** "
   ]
  },
  {
   "cell_type": "markdown",
   "id": "5c60ae68-827d-4801-acce-305c6b02d45a",
   "metadata": {},
   "source": [
    "Sayısal\n",
    "\n",
    "Kategorik(Nominal, Ordinal)"
   ]
  },
  {
   "attachments": {},
   "cell_type": "markdown",
   "id": "315500e2-a7f6-4dcd-82eb-69d7f43308da",
   "metadata": {},
   "source": [
    "Bağımlı(target, dependent,output, response)\n",
    "\n",
    "Bağımsız(feature, independent, input, column, predictor, explanatory)"
   ]
  },
  {
   "cell_type": "markdown",
   "id": "e8c206fd-0c98-4703-bba2-9b872f669278",
   "metadata": {},
   "source": [
    "**Öğrenme Türleri**"
   ]
  },
  {
   "cell_type": "markdown",
   "id": "30c9ddf6-355c-4d27-af66-1f6a376a804a",
   "metadata": {},
   "source": [
    "Denetimli(Supervised)\n",
    "Denetimsiz(Unsupervised)\n",
    "Pekiştirmeli(Reinforcement)"
   ]
  },
  {
   "cell_type": "markdown",
   "id": "aa102dd9-5633-4b35-a61c-c86f65d60333",
   "metadata": {},
   "source": [
    "**Problem Türleri**"
   ]
  },
  {
   "cell_type": "markdown",
   "id": "e209f5d2-f96a-4384-b95b-3299504144d7",
   "metadata": {},
   "source": [
    "Regresyon\n",
    "\n",
    "Sınıflandırma"
   ]
  },
  {
   "cell_type": "markdown",
   "id": "00527340-f7cc-4c83-b9f8-d6303fe745cd",
   "metadata": {},
   "source": [
    "**Model Başarı Değerlendirme Yöntemleri**"
   ]
  },
  {
   "cell_type": "markdown",
   "id": "a396ea14-83f3-4e54-82a8-155dee55c556",
   "metadata": {},
   "source": [
    "MSE(Mean Squared Error)\n",
    "\n",
    "RMSE(Root Mean Squared Error)\n",
    "\n",
    "MAE(Mean Absolute Error)\n",
    "\n",
    "Accuracy"
   ]
  },
  {
   "cell_type": "markdown",
   "id": "de3adc85-d025-430b-9e80-68ccbbefe4c3",
   "metadata": {},
   "source": [
    "**Model Doğrulama Yöntemleri (Validation)**"
   ]
  },
  {
   "cell_type": "markdown",
   "id": "661be178-1642-40f4-9b9c-4f1bcfb19bca",
   "metadata": {},
   "source": [
    "Holdout Yöntemi (Sınama Seti Yöntemi)\n",
    "\n",
    "K Fold Cross Validation (K-Katlı Çapraz Doğrulama)"
   ]
  },
  {
   "cell_type": "markdown",
   "id": "711ed921-a01f-4bb7-ae49-69e7fbb9c0b0",
   "metadata": {},
   "source": [
    "**Bias-Variance Tradeoff (Yanlılık-Varyans Değiş Tokuşu)**"
   ]
  },
  {
   "cell_type": "code",
   "execution_count": null,
   "id": "9fd1f006-16de-420d-bcae-edf89e535d19",
   "metadata": {},
   "outputs": [],
   "source": [
    "Underfitting--> Modelin veriyi öğrenememesi, Düşük varyans, Yüksek yanlılık\n",
    "Doğru Model--> Veri setindeki örüntünün öğrenilmesi, Düşük Varyans, Düşük yanlılık\n",
    "Overfitting--> Modelin veriyi ezberlemesi, Yüksek varyans"
   ]
  }
 ],
 "metadata": {
  "kernelspec": {
   "display_name": "Python 3 (ipykernel)",
   "language": "python",
   "name": "python3"
  },
  "language_info": {
   "codemirror_mode": {
    "name": "ipython",
    "version": 3
   },
   "file_extension": ".py",
   "mimetype": "text/x-python",
   "name": "python",
   "nbconvert_exporter": "python",
   "pygments_lexer": "ipython3",
   "version": "3.10.11"
  }
 },
 "nbformat": 4,
 "nbformat_minor": 5
}
